{
 "cells": [
  {
   "cell_type": "code",
   "execution_count": 1,
   "metadata": {
    "collapsed": false
   },
   "outputs": [
    {
     "name": "stderr",
     "output_type": "stream",
     "text": [
      "\n",
      "Attaching package: ‘dplyr’\n",
      "\n",
      "The following objects are masked from ‘package:stats’:\n",
      "\n",
      "    filter, lag\n",
      "\n",
      "The following objects are masked from ‘package:base’:\n",
      "\n",
      "    intersect, setdiff, setequal, union\n",
      "\n",
      "------------------------------------------------------------------------------\n",
      "data.table + dplyr code now lives in dtplyr.\n",
      "Please library(dtplyr)!\n",
      "------------------------------------------------------------------------------\n",
      "\n",
      "Attaching package: ‘data.table’\n",
      "\n",
      "The following objects are masked from ‘package:dplyr’:\n",
      "\n",
      "    between, last\n",
      "\n"
     ]
    }
   ],
   "source": [
    "library(kernlab)\n",
    "library(dplyr)\n",
    "library(data.table)"
   ]
  },
  {
   "cell_type": "code",
   "execution_count": 2,
   "metadata": {
    "collapsed": false
   },
   "outputs": [
    {
     "name": "stderr",
     "output_type": "stream",
     "text": [
      "\n",
      "Attaching package: ‘ggplot2’\n",
      "\n",
      "The following object is masked from ‘package:kernlab’:\n",
      "\n",
      "    alpha\n",
      "\n"
     ]
    }
   ],
   "source": [
    "library(ggplot2)"
   ]
  },
  {
   "cell_type": "code",
   "execution_count": 3,
   "metadata": {
    "collapsed": true
   },
   "outputs": [],
   "source": [
    "options(repr.plot.width=3, repr.plot.height=3,repr.plot.family='Hirakaku-Pro-W3')\n",
    "set.seed(1)"
   ]
  },
  {
   "cell_type": "code",
   "execution_count": 31,
   "metadata": {
    "collapsed": true
   },
   "outputs": [],
   "source": [
    "rkimu <- function(lambda,size,gamma){\n",
    "    kekka <- rep(0,size)\n",
    "    for(i in 1:size){\n",
    "        z <- rnorm(length(lambda),mean=0,sd=sqrt(1/(gamma*(1-gamma))))\n",
    "        kekka[i] <- sum(lambda*(z^2-1/(gamma*(1-gamma))))\n",
    "    }\n",
    "    return(kekka)\n",
    "}\n",
    "kernelTST <- function(X,Y){\n",
    "    X <- as.matrix(X)\n",
    "    Y <- as.matrix(Y)\n",
    "    s <- sigest(rbind(X,Y),scaled=FALSE)[2]\n",
    "    rbf <- rbfdot(sigma = s)\n",
    "    nX <- dim(X)[1]\n",
    "    nY <- dim(Y)[1]\n",
    "    N <- nX+nY\n",
    "    Kx <- kernelMatrix(x = X,kernel = rbf)\n",
    "    Ky <- kernelMatrix(x = Y,kernel = rbf)\n",
    "    \n",
    "    #get U statistic\n",
    "    diag(Kx)<-0;diag(Ky)<-0\n",
    "    term1 <- sum(Kx)/(nX*(nX-1))\n",
    "    term2 <- sum(Ky)/(nY*(nY-1))\n",
    "    term3 <- 2*sum(kernelMatrix(x=X,y=Y,kernel=rbf))/(nX*nY)\n",
    "    Ustatistic <- term1+term2-term3\n",
    "    Nstatistic <- N*Ustatistic\n",
    "\n",
    "    \n",
    "    #get critical values\n",
    "    one <- matrix(1,nX,1)\n",
    "    H <- diag(nX) - 1/nX*(one%*%t(one))\n",
    "    K <- kernelMatrix(x = X,kernel = rbf)\n",
    "    centerd_K <- H%*%K%*%H\n",
    "    lambda <- 1/nX*eigen(centerd_K)$values\n",
    "    lambda_pos <- lambda[lambda>0.001]\n",
    "    kimusample <- rkimu(lambda=lambda_pos,size=1000,gamma=1/2)\n",
    "    criticalvalue <- sort(kimusample)[0.95*length(kimusample)]\n",
    "    \n",
    "   \n",
    "    kimu.plot <- ggplot(data.frame(kimubunpu = kimusample),aes(kimubunpu))+geom_histogram()+\n",
    "        geom_vline(xintercept=criticalvalue,col='red',show.legend=TRUE)+\n",
    "        geom_vline(xintercept=Nstatistic,linetype='dashed',show.legend=TRUE)\n",
    "        \n",
    "    \n",
    "    kekka <- list(CV=criticalvalue,NU=Nstatistic,kimu='Rejected',kimu.plot)\n",
    "    if (criticalvalue>Nstatistic){\n",
    "        kekka$kimu = 'Accepted'\n",
    "    }\n",
    "    else{\n",
    "        kekka$kimu = 'Rejected'\n",
    "    }\n",
    "    return(kekka)\n",
    "}"
   ]
  },
  {
   "cell_type": "code",
   "execution_count": 48,
   "metadata": {
    "collapsed": false
   },
   "outputs": [
    {
     "name": "stderr",
     "output_type": "stream",
     "text": [
      "`stat_bin()` using `bins = 30`. Pick better value with `binwidth`.\n"
     ]
    },
    {
     "data": {
      "text/plain": [
       "$CV\n",
       "[1] 3.021708\n",
       "\n",
       "$NU\n",
       "[1] 424.0558\n",
       "\n",
       "$kimu\n",
       "[1] \"Rejected\"\n",
       "\n",
       "[[4]]\n"
      ]
     },
     "metadata": {},
     "output_type": "display_data"
    },
    {
     "data": {
      "image/png": "[encoded data removed]",
      "text/plain": [
       "plot without title"
      ]
     },
     "metadata": {},
     "output_type": "display_data"
    }
   ],
   "source": [
    "x <- rnorm(500,1,sd=sqrt(1/3))\n",
    "y <- runif(500,-1,1)\n",
    "kernelTST(x,y)"
   ]
  },
  {
   "cell_type": "code",
   "execution_count": 55,
   "metadata": {
    "collapsed": false
   },
   "outputs": [
    {
     "name": "stderr",
     "output_type": "stream",
     "text": [
      "`stat_bin()` using `bins = 30`. Pick better value with `binwidth`.\n"
     ]
    },
    {
     "data": {
      "text/plain": [
       "$CV\n",
       "[1] 3.57315\n",
       "\n",
       "$NU\n",
       "[1] 3.836731\n",
       "\n",
       "$kimu\n",
       "[1] \"Rejected\"\n",
       "\n",
       "[[4]]\n"
      ]
     },
     "metadata": {},
     "output_type": "display_data"
    },
    {
     "data": {
      "image/png": "[encoded data removed]",
      "text/plain": [
       "plot without title"
      ]
     },
     "metadata": {},
     "output_type": "display_data"
    }
   ],
   "source": [
    "x <- runif(500,-1,1)\n",
    "y <- runif(500,-1.1,1.1)\n",
    "kernelTST(x,y)"
   ]
  },
  {
   "cell_type": "code",
   "execution_count": 33,
   "metadata": {
    "collapsed": false
   },
   "outputs": [
    {
     "data": {
      "text/html": [
       "<table>\n",
       "<tbody>\n",
       "\t<tr><td>1.0000000</td><td>0.3678794</td><td>0.3678794</td></tr>\n",
       "\t<tr><td>0.3678794</td><td>1.0000000</td><td>1.0000000</td></tr>\n",
       "\t<tr><td>0.3678794</td><td>1.0000000</td><td>1.0000000</td></tr>\n",
       "</tbody>\n",
       "</table>\n"
      ],
      "text/latex": [
       "\\begin{tabular}{lll}\n",
       "\t 1.0000000 & 0.3678794 & 0.3678794\\\\\n",
       "\t 0.3678794 & 1.0000000 & 1.0000000\\\\\n",
       "\t 0.3678794 & 1.0000000 & 1.0000000\\\\\n",
       "\\end{tabular}\n"
      ],
      "text/plain": [
       "     [,1]      [,2]      [,3]     \n",
       "[1,] 1.0000000 0.3678794 0.3678794\n",
       "[2,] 0.3678794 1.0000000 1.0000000\n",
       "[3,] 0.3678794 1.0000000 1.0000000"
      ]
     },
     "metadata": {},
     "output_type": "display_data"
    },
    {
     "data": {
      "text/html": [
       "0.90483741803596"
      ],
      "text/latex": [
       "0.90483741803596"
      ],
      "text/markdown": [
       "0.90483741803596"
      ],
      "text/plain": [
       "[1] 0.9048374"
      ]
     },
     "metadata": {},
     "output_type": "display_data"
    }
   ],
   "source": [
    "x <- c(2,1,1)\n",
    "kernelMatrix(x=as.matrix(x),kernel=rbf)\n",
    "exp(-1*0.1)"
   ]
  },
  {
   "cell_type": "markdown",
   "metadata": {},
   "source": [
    "## How many times rejected"
   ]
  },
  {
   "cell_type": "code",
   "execution_count": 46,
   "metadata": {
    "collapsed": false
   },
   "outputs": [
    {
     "data": {
      "text/html": [
       "10"
      ],
      "text/latex": [
       "10"
      ],
      "text/markdown": [
       "10"
      ],
      "text/plain": [
       "[1] 10"
      ]
     },
     "metadata": {},
     "output_type": "display_data"
    }
   ],
   "source": [
    "kekka <- 0\n",
    "for (i in 1:10){\n",
    "    x <- rnorm(100,0,sd=1/3)\n",
    "    y <- runif(100,-1,1)\n",
    "    kekka <- kekka+(kernelTST(X=x,Y=y)$kimu=='Rejected')\n",
    "}\n",
    "kekka"
   ]
  },
  {
   "cell_type": "code",
   "execution_count": 47,
   "metadata": {
    "collapsed": false
   },
   "outputs": [
    {
     "data": {
      "text/html": [
       "10"
      ],
      "text/latex": [
       "10"
      ],
      "text/markdown": [
       "10"
      ],
      "text/plain": [
       "[1] 10"
      ]
     },
     "metadata": {},
     "output_type": "display_data"
    }
   ],
   "source": [
    "kekka <- 0\n",
    "for (i in 1:10){\n",
    "    x <- rnorm(500,0,sd=1/3)\n",
    "    y <- runif(500,-1,1)\n",
    "    kekka <- kekka+(kernelTST(X=x,Y=y)$kimu=='Rejected')\n",
    "}\n",
    "kekka"
   ]
  },
  {
   "cell_type": "code",
   "execution_count": 40,
   "metadata": {
    "collapsed": false
   },
   "outputs": [
    {
     "data": {
      "text/html": [
       "10"
      ],
      "text/latex": [
       "10"
      ],
      "text/markdown": [
       "10"
      ],
      "text/plain": [
       "[1] 10"
      ]
     },
     "metadata": {},
     "output_type": "display_data"
    }
   ],
   "source": [
    "kekka <- 0\n",
    "for (i in 1:10){\n",
    "    x <- rnorm(1000,0,sd=1/3)\n",
    "    y <- runif(1000,-1,1)\n",
    "    #y <- rnorm(1000,0,sd=1/3)\n",
    "    kekka <- kekka+(kernelTST(X=x,Y=y)$kimu=='Rejected')\n",
    "}\n",
    "kekka"
   ]
  },
  {
   "cell_type": "code",
   "execution_count": 38,
   "metadata": {
    "collapsed": false
   },
   "outputs": [
    {
     "data": {
      "text/html": [
       "10"
      ],
      "text/latex": [
       "10"
      ],
      "text/markdown": [
       "10"
      ],
      "text/plain": [
       "[1] 10"
      ]
     },
     "metadata": {},
     "output_type": "display_data"
    }
   ],
   "source": [
    "kekka <- 0\n",
    "for (i in 1:10){\n",
    "    x <- rnorm(1000,0,sd=1/3)\n",
    "    #y <- rnorm(1000,0,sd=1/3)\n",
    "    y <- runif(1000,-1,1)\n",
    "    kekka <- kekka+(ks.test(x,y)$p.value<0.05)\n",
    "}\n",
    "kekka"
   ]
  },
  {
   "cell_type": "code",
   "execution_count": 56,
   "metadata": {
    "collapsed": false
   },
   "outputs": [
    {
     "data": {
      "text/html": [
       "43"
      ],
      "text/latex": [
       "43"
      ],
      "text/markdown": [
       "43"
      ],
      "text/plain": [
       "[1] 43"
      ]
     },
     "metadata": {},
     "output_type": "display_data"
    }
   ],
   "source": [
    "kekka <- 0\n",
    "for (i in 1:100){\n",
    "    x <- runif(500,-1,1)\n",
    "    y <- runif(500,-1.1,1.1)\n",
    "    kekka <- kekka+(kernelTST(X=x,Y=y)$kimu=='Rejected')\n",
    "}\n",
    "kekka"
   ]
  },
  {
   "cell_type": "code",
   "execution_count": 57,
   "metadata": {
    "collapsed": false
   },
   "outputs": [
    {
     "data": {
      "text/html": [
       "99"
      ],
      "text/latex": [
       "99"
      ],
      "text/markdown": [
       "99"
      ],
      "text/plain": [
       "[1] 99"
      ]
     },
     "metadata": {},
     "output_type": "display_data"
    }
   ],
   "source": [
    "kekka <- 0\n",
    "for (i in 1:100){\n",
    "    x <- runif(500,-1,1)\n",
    "    y <- runif(500,-1.2,1.2)\n",
    "    kekka <- kekka+(kernelTST(X=x,Y=y)$kimu=='Rejected')\n",
    "}\n",
    "kekka"
   ]
  },
  {
   "cell_type": "code",
   "execution_count": 58,
   "metadata": {
    "collapsed": false
   },
   "outputs": [
    {
     "name": "stderr",
     "output_type": "stream",
     "text": [
      "`stat_bin()` using `bins = 30`. Pick better value with `binwidth`.\n"
     ]
    },
    {
     "data": {
      "text/plain": [
       "$CV\n",
       "[1] 0.1557651\n",
       "\n",
       "$NU\n",
       "[1] 162.7896\n",
       "\n",
       "$kimu\n",
       "[1] \"Rejected\"\n",
       "\n",
       "[[4]]\n"
      ]
     },
     "metadata": {},
     "output_type": "display_data"
    },
    {
     "data": {
      "image/png": "[encoded data removed]",
      "text/plain": [
       "plot without title"
      ]
     },
     "metadata": {},
     "output_type": "display_data"
    }
   ],
   "source": [
    "data(iris)\n",
    "setosa <- as.matrix(filter(iris,Species=='setosa')[,c('Petal.Width')])\n",
    "virginica <- as.matrix(filter(iris,Species=='virginica')[,c('Petal.Width')])\n",
    "kernelTST(X=setosa,Y=virginica)"
   ]
  },
  {
   "cell_type": "code",
   "execution_count": 61,
   "metadata": {
    "collapsed": false
   },
   "outputs": [
    {
     "name": "stderr",
     "output_type": "stream",
     "text": [
      "`stat_bin()` using `bins = 30`. Pick better value with `binwidth`.\n"
     ]
    },
    {
     "data": {
      "text/plain": [
       "$CV\n",
       "[1] 3.325443\n",
       "\n",
       "$NU\n",
       "[1] -1.000175\n",
       "\n",
       "$kimu\n",
       "[1] \"Accepted\"\n",
       "\n",
       "[[4]]\n"
      ]
     },
     "metadata": {},
     "output_type": "display_data"
    },
    {
     "data": {
      "image/png": "[encoded data removed]",
      "text/plain": [
       "plot without title"
      ]
     },
     "metadata": {},
     "output_type": "display_data"
    }
   ],
   "source": [
    "kernelTST(X=setosa[1:25,],Y=setosa[25:50,])"
   ]
  },
  {
   "cell_type": "code",
   "execution_count": null,
   "metadata": {
    "collapsed": true
   },
   "outputs": [],
   "source": []
  }
 ],
 "metadata": {
  "kernelspec": {
   "display_name": "R",
   "language": "R",
   "name": "ir"
  },
  "language_info": {
   "codemirror_mode": "r",
   "file_extension": ".r",
   "mimetype": "text/x-r-source",
   "name": "R",
   "pygments_lexer": "r",
   "version": "3.3.2"
  }
 },
 "nbformat": 4,
 "nbformat_minor": 0
}
